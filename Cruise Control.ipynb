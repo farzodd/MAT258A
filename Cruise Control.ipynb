{
 "cells": [
  {
   "cell_type": "code",
   "execution_count": null,
   "metadata": {
    "collapsed": false
   },
   "outputs": [],
   "source": [
    "#add tools.  Ipopt is a nonlinear solver, JuMP is a framework to simplify coding/math.\n",
    "using JuMP, Ipopt, Gadfly"
   ]
  },
  {
   "cell_type": "code",
   "execution_count": null,
   "metadata": {
    "collapsed": false
   },
   "outputs": [],
   "source": [
    "#create model\n",
    "mod = Model(solver=IpoptSolver())"
   ]
  },
  {
   "cell_type": "code",
   "execution_count": null,
   "metadata": {
    "collapsed": false
   },
   "outputs": [],
   "source": [
    "# Constants\n",
    "p_0 = 0    # Initial position [m]\n",
    "p_f = 100  # Ending position [m] (this is the distance over which we'll minimize)\n",
    "v_0 = 11    # Initial velocity [m/s]\n",
    "m_0 = 500    # Initial mass [kg] (~Mazda Miata)\n",
    "g = 9.81    # Gravity [m/s^2]\n",
    "tq = 216.93   #Engine Torque [N-m] (suped up Mazda Miata, ~160ft-lb)\n",
    "rw = 0.18   #wheel radius [m] (~14\" rim)\n",
    "rho = 1.22   #air density at sea level [kg/m^3])\n",
    "C_d = 0.38    #drag coefficient (Mazda Miata)\n",
    "A = 2.79     #drag cross sectional area [m^2] (Mazda Miata)\n",
    "\n",
    "F_max = tq/rw     #the max wheel force produced by the engine [N]\n",
    "\n",
    "# Time steps\n",
    "n = 800"
   ]
  },
  {
   "cell_type": "code",
   "execution_count": null,
   "metadata": {
    "collapsed": false
   },
   "outputs": [],
   "source": [
    "# Set up variables and constraints\n",
    "\n",
    "# Time step with initial guess\n",
    "@defVar(mod, Δt ≥ 0, start = 1/n)\n",
    "# driving time\n",
    "@defNLExpr(t_d, Δt*n)\n",
    "\n",
    "# State variables\n",
    "@defVar(mod, v[0:n] ≥ v_0)            # Velocity (min 11m/s cruise control)\n",
    "@defVar(mod, p_f ≥ p[0:n] ≥ p_0)          # Distance traveled\n",
    "@defVar(mod, F_tot[0:n] ≥ 0)         #total control input\n",
    "\n",
    "# driving control via wheel force\n",
    "@defVar(mod, 0 ≤ F[0:n] ≤ F_max)\n",
    "\n",
    "# Provide starting solution\n",
    "# Could have done this at same time as @defVar\n",
    "for k in 0:n\n",
    "    setValue(p[k], (p_f))\n",
    "    setValue(v[k], (v_0)\n",
    "    setValue(F[k], F_max/2)\n",
    "    setValue(F_tot[k], F[k]*k)\n",
    "end\n",
    "\n",
    "# set the objective.  We want to minimize control input over timeframe\n",
    "@setObjective(mod, Min, F_tot[n])\n",
    "\n",
    "# Initial conditions\n",
    "@addConstraint(mod, v[0] == v_0)\n",
    "@addConstraint(mod, p[0] == p_0)\n",
    "@addConstraint(mod, p[n] == p_f)\n",
    "@addConstraint(mod, F_tot[0] == 0)\n",
    "\n",
    "# Drag(v) = 0.5 C_d v^2 rho A\n",
    "@defNLExpr(drag[j=0:n], 0.5*C_d*(v[j]^2)*rho*A\n",
    "# Grav(p)   = g sin(alpha)\n",
    "# alpha(p)  = road grade in degrees at position p\n",
    "@defNLExpr(grav[j=0:n], g*sin(arctan((sin(p[j])-sin(p[j-1]))/Δt)))\n",
    "\n",
    "# Dynamics\n",
    "for j in 1:n\n",
    "    #trapezoidal integration to discretize position\n",
    "    @addNLConstraint(mod,\n",
    "        p[j] == p[j-1] + 0.5*Δt*(v[j]+v[j-1]))\n",
    "    #same, with acceleration\n",
    "    @addNLConstraint(mod,\n",
    "        v[j] == v[j-1] + 0.5*Δt*(\n",
    "            ((F[j  ] - drag[j  ])/m - grav[j  ]) + \n",
    "            ((F[j-1] - drag[j-1])/m - grav[j-1]))\n",
    "    #calculate total control input so far\n",
    "    @addConstraint(mod, F_tot[j] == F[j]) + F_tot[j-1]\n",
    "end"
   ]
  },
  {
   "cell_type": "code",
   "execution_count": null,
   "metadata": {
    "collapsed": false
   },
   "outputs": [],
   "source": [
    "#solve the problem\n",
    "status = solve(mod);"
   ]
  },
  {
   "cell_type": "code",
   "execution_count": null,
   "metadata": {
    "collapsed": false
   },
   "outputs": [],
   "source": [
    "#plot results\n",
    "h_plot = plot(x=(0:n-1)*getValue(Δt),y=getValue(p)[1:n], Geom.line,\n",
    "                Guide.xlabel(\"Time (s)\"), Guide.ylabel(\"Position\"))\n",
    "m_plot = plot(x=(0:n-1)*getValue(Δt),y=getValue(F_tot)[1:n], Geom.line,\n",
    "                Guide.xlabel(\"Time (s)\"), Guide.ylabel(\"Total Effort\"))\n",
    "v_plot = plot(x=(0:n-1)*getValue(Δt),y=getValue(v)[1:n], Geom.line,\n",
    "                Guide.xlabel(\"Time (s)\"), Guide.ylabel(\"Velocity\"))\n",
    "T_plot = plot(x=(0:n-1)*getValue(Δt),y=getValue(F)[1:n], Geom.line,\n",
    "                Guide.xlabel(\"Time (s)\"), Guide.ylabel(\"Instantaneous Effort\"))\n",
    "draw(SVG(6inch, 6inch), vstack( hstack(h_plot,m_plot),\n",
    "                                hstack(v_plot,T_plot)))"
   ]
  },
  {
   "cell_type": "code",
   "execution_count": null,
   "metadata": {
    "collapsed": false
   },
   "outputs": [],
   "source": []
  },
  {
   "cell_type": "code",
   "execution_count": null,
   "metadata": {
    "collapsed": false
   },
   "outputs": [],
   "source": []
  },
  {
   "cell_type": "code",
   "execution_count": null,
   "metadata": {
    "collapsed": true
   },
   "outputs": [],
   "source": []
  }
 ],
 "metadata": {
  "kernelspec": {
   "display_name": "Julia 0.4.2",
   "language": "julia",
   "name": "julia-0.4"
  },
  "language_info": {
   "file_extension": ".jl",
   "mimetype": "application/julia",
   "name": "julia",
   "version": "0.4.2"
  }
 },
 "nbformat": 4,
 "nbformat_minor": 0
}
