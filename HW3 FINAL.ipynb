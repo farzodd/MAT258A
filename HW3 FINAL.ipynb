{
 "cells": [
  {
   "cell_type": "code",
   "execution_count": 9,
   "metadata": {
    "collapsed": false
   },
   "outputs": [],
   "source": [
    "using Toms566\n",
    "p = Problem(1)\n",
    "x0 = p.x0;"
   ]
  },
  {
   "cell_type": "code",
   "execution_count": 10,
   "metadata": {
    "collapsed": false
   },
   "outputs": [
    {
     "data": {
      "text/plain": [
       "(15,2.2717945476127312e-7)"
      ]
     },
     "execution_count": 10,
     "metadata": {},
     "output_type": "execute_result"
    }
   ],
   "source": [
    "function newtMin(p, x0)\n",
    "    #set up all the variables\n",
    "    k = 0;  #counter\n",
    "    f = p.obj(x0);  #f is the objective value at point x\n",
    "    g = p.grd(x0);  #g is the at point x\n",
    "    H = p.hes(x0);  #H is the Hessian at point x\n",
    "    tau = norm(g,2);  #calculate the initial 2-norm of the gradient at x0\n",
    "    \n",
    "    #We exit after |g| < tauGoal.  Here we scale tauGoal based on the initial value of tau\n",
    "    if tau > 10e5\n",
    "        tauGoal = tau*10e-10\n",
    "    elseif tau > 10e3\n",
    "        tauGoal = tau*10e-4\n",
    "    elseif tau > 10e-3\n",
    "        tauGoal = tau*10e-5\n",
    "    else\n",
    "        tauGoal = tau*10e-4\n",
    "    end\n",
    "    \n",
    "    alpha = 1;  #a part of the step size for the newton step\n",
    "    x = x0;  #setting the initial value of x\n",
    "    mu = 10e-4  #this is for the Armijo backtracking linesearch, it helps define a better condition for an appropriate step size\n",
    "    sigma = 10e-5  #this is the minimum value we will accept for an eigenvalue inside the Hessian\n",
    "    \n",
    "    #Main loop.  We exit when |g| is less than a predefined value (ie: we are near a stationary point)\n",
    "    while tau > tauGoal\n",
    "        #if we max iterations, exit and return the current value\n",
    "        if k == 10e3\n",
    "            @printf(\"Maxed iterations\")\n",
    "            return (k, p.obj(x))\n",
    "        end\n",
    "        \n",
    "        #condition H so that it is definite positive under all conditions\n",
    "        A = eigvals(H)\n",
    "        V = eigvecs(H)\n",
    "        for i in 1:1:length(A)\n",
    "            if abs(A[i]) >= sigma\n",
    "                A[i] = abs(A[i])\n",
    "            else\n",
    "                A[i] = sigma\n",
    "            end\n",
    "        end\n",
    "        A = diagm(vec(A))\n",
    "        H = *(*(V,A),transpose(V))\n",
    "        \n",
    "        #find search direction\n",
    "        d = H\\-(g)\n",
    "        \n",
    "        #Armijo Backtracking\n",
    "        alpha = 1;\n",
    "        while p.obj(x + d*alpha) > (p.obj(x) + alpha*mu*dot(g,d))\n",
    "            alpha = alpha/1.5;\n",
    "        end\n",
    "        \n",
    "        #compute next x\n",
    "        x = x + alpha * d;\n",
    "        \n",
    "        #clean up for next loop\n",
    "        f = p.obj(x);\n",
    "        g = p.grd(x);\n",
    "        H = p.hes(x);\n",
    "        k = k + 1;\n",
    "        tau = norm(g,2)\n",
    "    end\n",
    "    return (k, p.obj(x))  #return the value we've found\n",
    "end\n",
    "\n",
    "#run the minimizer\n",
    "newtMin(p, x0)"
   ]
  },
  {
   "cell_type": "code",
   "execution_count": 134,
   "metadata": {
    "collapsed": false
   },
   "outputs": [],
   "source": [
    "#my test problem\n",
    "type Blah5\n",
    "    x0::Array{Float64}\n",
    "    obj::Function\n",
    "    grd::Function\n",
    "    hes::Function\n",
    "    \n",
    " \n",
    "    function Blah5()\n",
    "        this = new()\n",
    " \n",
    "        this.x0 = [3,-3,10]\n",
    "        \n",
    "        #this function is u = x^2 + y^2 + z^3.  THe minimum should still be 0.\n",
    "        this.obj = function (x::Array{Float64})\n",
    "            return x[1]^2 + x[2]^2 + x[3]^3\n",
    "        end\n",
    "        \n",
    "        #gradient\n",
    "        this.grd = function (x::Array{Float64})\n",
    "            return [2*x[1], 2*x[2], 3*x[3]^2]\n",
    "        end\n",
    "        \n",
    "        #hessian\n",
    "        this.hes = function (x::Array{Float64})\n",
    "            return diagm([2.0,2.0,6.0*x[3]])\n",
    "        end\n",
    " \n",
    "        return this\n",
    "    end\n",
    "end"
   ]
  },
  {
   "cell_type": "code",
   "execution_count": 135,
   "metadata": {
    "collapsed": false
   },
   "outputs": [
    {
     "data": {
      "text/plain": [
       "(7,0.000476837158203125)"
      ]
     },
     "execution_count": 135,
     "metadata": {},
     "output_type": "execute_result"
    }
   ],
   "source": [
    "poo = Blah5()\n",
    "x0 = poo.x0\n",
    "newtMin(poo, x0)"
   ]
  },
  {
   "cell_type": "code",
   "execution_count": null,
   "metadata": {
    "collapsed": false
   },
   "outputs": [],
   "source": []
  },
  {
   "cell_type": "code",
   "execution_count": null,
   "metadata": {
    "collapsed": false
   },
   "outputs": [],
   "source": []
  },
  {
   "cell_type": "code",
   "execution_count": null,
   "metadata": {
    "collapsed": false
   },
   "outputs": [],
   "source": []
  },
  {
   "cell_type": "code",
   "execution_count": null,
   "metadata": {
    "collapsed": true
   },
   "outputs": [],
   "source": []
  },
  {
   "cell_type": "code",
   "execution_count": null,
   "metadata": {
    "collapsed": true
   },
   "outputs": [],
   "source": []
  },
  {
   "cell_type": "code",
   "execution_count": null,
   "metadata": {
    "collapsed": true
   },
   "outputs": [],
   "source": []
  },
  {
   "cell_type": "code",
   "execution_count": null,
   "metadata": {
    "collapsed": true
   },
   "outputs": [],
   "source": []
  },
  {
   "cell_type": "code",
   "execution_count": null,
   "metadata": {
    "collapsed": true
   },
   "outputs": [],
   "source": []
  },
  {
   "cell_type": "code",
   "execution_count": null,
   "metadata": {
    "collapsed": true
   },
   "outputs": [],
   "source": []
  },
  {
   "cell_type": "code",
   "execution_count": null,
   "metadata": {
    "collapsed": true
   },
   "outputs": [],
   "source": []
  }
 ],
 "metadata": {
  "kernelspec": {
   "display_name": "Julia 0.4.0-rc2",
   "language": "julia",
   "name": "julia-0.4"
  },
  "language_info": {
   "file_extension": ".jl",
   "mimetype": "application/julia",
   "name": "julia",
   "version": "0.4.0"
  }
 },
 "nbformat": 4,
 "nbformat_minor": 0
}
